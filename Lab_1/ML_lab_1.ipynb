{
  "cells": [
    {
      "cell_type": "markdown",
      "id": "unauthorized-equilibrium",
      "metadata": {
        "heading_collapsed": true,
        "hidden": true,
        "id": "unauthorized-equilibrium"
      },
      "source": [
        "#### МАГІЧНІ ФУНКЦІЇ\n",
        "\n",
        "це метамова, команди якої починаються з '__%__', або '__%%__'"
      ]
    },
    {
      "cell_type": "markdown",
      "id": "functioning-printer",
      "metadata": {
        "id": "functioning-printer"
      },
      "source": [
        "# ЛАБОРАТОРНА РОБОТА № 1 \"Основи роботи з JN\""
      ]
    },
    {
      "cell_type": "markdown",
      "id": "parliamentary-legislation",
      "metadata": {
        "id": "parliamentary-legislation"
      },
      "source": [
        "__Корисні посилання__:\n",
        "- [офсайт](https://jupyter.org)\n",
        "- [JN на Github](https://github.com/jupyter/notebook)\n",
        "- [SciPy конференції](http://conference.scipy.org)\n",
        "- [Reddit](https://www.reddit.com/r/JupyterNotebooks/)"
      ]
    },
    {
      "cell_type": "markdown",
      "id": "77097bed",
      "metadata": {
        "heading_collapsed": true,
        "id": "77097bed"
      },
      "source": [
        "### Складові технології __Jupyter__"
      ]
    },
    {
      "cell_type": "markdown",
      "id": "2b5f3887",
      "metadata": {
        "hidden": true,
        "id": "2b5f3887"
      },
      "source": [
        "\n",
        "![image.png](attachment:image.png)\n",
        "\n",
        "#### Клієнт-серверна модель, де\n",
        "- __клієнт__ - це будь-який браузер\n",
        "- __сервер__ - спеціалізований [бекенд-сервіс](https://github.com/jupyter-server/jupyter_server)"
      ]
    },
    {
      "cell_type": "markdown",
      "id": "brazilian-teaching",
      "metadata": {
        "heading_collapsed": true,
        "id": "brazilian-teaching"
      },
      "source": [
        "### Складові головного вікна"
      ]
    },
    {
      "cell_type": "markdown",
      "id": "chinese-conference",
      "metadata": {
        "hidden": true,
        "id": "chinese-conference"
      },
      "source": [
        "__Форматована__ текстова комірка.\n",
        "\n",
        "Підтримує форматування в HTML та Markdown (Latex)"
      ]
    },
    {
      "cell_type": "markdown",
      "id": "coupled-wedding",
      "metadata": {
        "hidden": true,
        "id": "coupled-wedding"
      },
      "source": [
        "<h4>Ця комірка</h4><br>\n",
        "<i> відформатована через <b>HTML</b></i>"
      ]
    },
    {
      "cell_type": "markdown",
      "id": "leading-incident",
      "metadata": {
        "heading_collapsed": true,
        "hidden": true,
        "id": "leading-incident"
      },
      "source": [
        "#### Ця комірка\n",
        "\n",
        "*відформатована через __Markdown__*"
      ]
    },
    {
      "cell_type": "code",
      "execution_count": null,
      "id": "alleged-adaptation",
      "metadata": {
        "hidden": true,
        "id": "alleged-adaptation"
      },
      "outputs": [],
      "source": [
        "# це кодова комірка містить код на Python\n",
        "x = 2\n",
        "y = 3\n",
        "x * y"
      ]
    },
    {
      "cell_type": "markdown",
      "id": "aerial-conditions",
      "metadata": {
        "heading_collapsed": true,
        "id": "aerial-conditions"
      },
      "source": [
        "### Настроювання Jupyter Notebook\n",
        "\n",
        "- зовнішні команди\n",
        "- магічні функції\n",
        "- розширення (extentions)"
      ]
    },
    {
      "cell_type": "markdown",
      "id": "aggressive-distributor",
      "metadata": {
        "heading_collapsed": true,
        "hidden": true,
        "id": "aggressive-distributor"
      },
      "source": [
        "#### ЗОВНІШНІ КОМАНДИ\n",
        " це shell/bash-команди ОС, або виконуваний файл\n",
        " \n",
        " починає виконуватись з '__!__'"
      ]
    },
    {
      "cell_type": "code",
      "execution_count": null,
      "id": "cultural-billion",
      "metadata": {
        "hidden": true,
        "id": "cultural-billion"
      },
      "outputs": [],
      "source": [
        "!ls\n",
        "!cd .. && ls\n",
        "!python --version"
      ]
    },
    {
      "cell_type": "code",
      "execution_count": null,
      "id": "seven-narrative",
      "metadata": {
        "hidden": true,
        "id": "seven-narrative"
      },
      "outputs": [],
      "source": [
        "# вбудована документація\n",
        "%magic"
      ]
    },
    {
      "cell_type": "code",
      "execution_count": null,
      "id": "continued-theta",
      "metadata": {
        "hidden": true,
        "id": "continued-theta"
      },
      "outputs": [],
      "source": [
        "# вивести усі магічні функції\n",
        "%lsmagic"
      ]
    },
    {
      "cell_type": "code",
      "execution_count": null,
      "id": "nuclear-withdrawal",
      "metadata": {
        "hidden": true,
        "id": "nuclear-withdrawal"
      },
      "outputs": [],
      "source": [
        "# отримати спаравку по функції (?)\n",
        "%time?"
      ]
    },
    {
      "cell_type": "markdown",
      "id": "every-overall",
      "metadata": {
        "hidden": true,
        "id": "every-overall"
      },
      "source": [
        "[докладніше про __jupyter magic__]( https://ipython.readthedocs.io/en/stable/interactive/magics.html)"
      ]
    },
    {
      "cell_type": "markdown",
      "id": "macro-worst",
      "metadata": {
        "hidden": true,
        "id": "macro-worst"
      },
      "source": [
        "#### РОЗШИРЕНЯ (ПЛАГІНИ)\n",
        "\n",
        "це зовнішні модулі, які можга підключати до JN з ціллю розширення його функціоналу"
      ]
    },
    {
      "cell_type": "code",
      "execution_count": null,
      "id": "spatial-cattle",
      "metadata": {
        "code_folding": [],
        "hidden": true,
        "id": "spatial-cattle"
      },
      "outputs": [],
      "source": [
        "# настроювання розширень\n",
        "!!pip install jupyter_contrib_nbextensions && jupyter contrib nbextension install \n",
        "# після виконання треба перезавантажити JN"
      ]
    },
    {
      "cell_type": "markdown",
      "id": "written-hawaii",
      "metadata": {
        "hidden": true,
        "id": "written-hawaii"
      },
      "source": [
        "[Докладніше про розширення](https://jupyter-contrib-nbextensions.readthedocs.io/en/latest/nbextensions.html?highlight=nbextensions)"
      ]
    },
    {
      "cell_type": "markdown",
      "id": "narrow-corrections",
      "metadata": {
        "heading_collapsed": true,
        "id": "narrow-corrections"
      },
      "source": [
        "## ЗАВДАННЯ"
      ]
    },
    {
      "cell_type": "code",
      "execution_count": null,
      "id": "separated-cartridge",
      "metadata": {
        "hidden": true,
        "id": "separated-cartridge"
      },
      "outputs": [],
      "source": [
        "# для користувачів Windows!\n",
        "import os\n",
        "os.environ['comspec']='powershell.exe'"
      ]
    },
    {
      "cell_type": "markdown",
      "id": "cellular-windows",
      "metadata": {
        "heading_collapsed": true,
        "hidden": true,
        "id": "cellular-windows"
      },
      "source": [
        "### 1. За допомогою зовнішніх команд:\n",
        "[корисне посилання](http://mally.stanford.edu/~sr/computing/basic-unix.html)"
      ]
    },
    {
      "cell_type": "code",
      "execution_count": null,
      "id": "independent-argentina",
      "metadata": {
        "hidden": true,
        "id": "independent-argentina"
      },
      "outputs": [],
      "source": [
        "# вивести ім'я користувача (whoami)\n",
        "!whoami"
      ]
    },
    {
      "cell_type": "code",
      "execution_count": null,
      "id": "interracial-malawi",
      "metadata": {
        "hidden": true,
        "id": "interracial-malawi"
      },
      "outputs": [],
      "source": [
        "# створити пустий текстовий файл з ім'ям <ваш_логін>.txt\n",
        "!ni zabrodsjkij_o.txt"
      ]
    },
    {
      "cell_type": "code",
      "execution_count": null,
      "id": "fuzzy-health",
      "metadata": {
        "hidden": true,
        "id": "fuzzy-health"
      },
      "outputs": [],
      "source": [
        "# записати в нього речення: \"<Ваше прізвище> - є студентом <номер групи> групи ФІТ\"\n",
        "!Set-Content zabrodsjkij_o.txt 'Забродський - є студентом 11 групи ФІТ '"
      ]
    },
    {
      "cell_type": "code",
      "execution_count": null,
      "id": "wanted-judges",
      "metadata": {
        "hidden": true,
        "id": "wanted-judges"
      },
      "outputs": [],
      "source": [
        "# вивести вміст текстового файлу в  поточну комірку\n",
        "!gc zabrodsjkij_o.txt"
      ]
    },
    {
      "cell_type": "code",
      "execution_count": null,
      "id": "about-internship",
      "metadata": {
        "hidden": true,
        "id": "about-internship"
      },
      "outputs": [],
      "source": [
        "# Вивести вміст своєї робочої папки\n",
        "!ls"
      ]
    },
    {
      "cell_type": "markdown",
      "id": "stuck-cylinder",
      "metadata": {
        "heading_collapsed": true,
        "hidden": true,
        "id": "stuck-cylinder"
      },
      "source": [
        "### 2. Використовуючи магічні функції"
      ]
    },
    {
      "cell_type": "code",
      "execution_count": null,
      "id": "billion-title",
      "metadata": {
        "hidden": true,
        "id": "billion-title"
      },
      "outputs": [],
      "source": [
        "# вивести лог 5 попередніх команд (history)\n",
        "%history"
      ]
    },
    {
      "cell_type": "code",
      "execution_count": null,
      "id": "experimental-simple",
      "metadata": {
        "hidden": true,
        "id": "experimental-simple"
      },
      "outputs": [],
      "source": [
        "# %load https://raw.githubusercontent.com/jupyter/notebook/master/README.md\n",
        "# Jupyter Notebook\n",
        "\n",
        "![Github Actions Status](https://github.com/jupyter/notebook/workflows/Build/badge.svg)\n",
        "[![Documentation Status](https://readthedocs.org/projects/jupyter-notebook/badge/?version=latest)](https://jupyter-notebook.readthedocs.io/en/latest/?badge=latest)\n",
        "[![Binder](https://mybinder.org/badge_logo.svg)](https://mybinder.org/v2/gh/jupyter/notebook/main?urlpath=tree)\n",
        "[![codecov](https://codecov.io/gh/jupyter/notebook/branch/main/graph/badge.svg)](https://codecov.io/gh/jupyter/notebook)\n",
        "\n",
        "The Jupyter notebook is a web-based notebook environment for interactive\n",
        "computing.\n",
        "\n",
        "![Jupyter notebook example](docs/resources/running_code_med.png 'Jupyter notebook example')\n",
        "\n",
        "## Maintained versions\n",
        "\n",
        "We maintain the **two most recently released major versions of Jupyter Notebook**, Notebook v5 and Classic Notebook v6. After Notebook v7.0 is released, we will no longer maintain Notebook v5. All Notebook v5 users are strongly advised to upgrade to Classic Notebook v6 as soon as possible.\n",
        "\n",
        "The Jupyter Notebook project is currently undertaking a transition to a more modern code base built from the ground-up using JupyterLab components and extensions.\n",
        "\n",
        "There is new stream of work which was submitted and then accepted as a Jupyter Enhancement Proposal (JEP) as part of the next version (v7): https://jupyter.org/enhancement-proposals/79-notebook-v7/notebook-v7.html\n",
        "\n",
        "There is also a plan to continue maintaining Notebook v6 with bug and security fixes only, to ease the transition to Notebook v7: https://github.com/jupyter/notebook-team-compass/issues/5#issuecomment-1085254000\n",
        "\n",
        "### Notebook v7\n",
        "\n",
        "The next major version of Notebook will be based on:\n",
        "\n",
        "- JupyterLab components for the frontend\n",
        "- Jupyter Server for the Python server\n",
        "\n",
        "This represents a significant change to the `jupyter/notebook` code base.\n",
        "\n",
        "To learn more about Notebook v7: https://jupyter.org/enhancement-proposals/79-notebook-v7/notebook-v7.html\n",
        "\n",
        "### Classic Notebook v6\n",
        "\n",
        "Maintainance and security-related issues are now being addressed in the [`6.4.x`](https://github.com/jupyter/notebook/tree/6.4.x) branch.\n",
        "\n",
        "A `6.5.x` branch will be soon created and will depend on [`nbclassic`](https://github.com/jupyter/nbclassic) for the HTML/JavaScript/CSS assets.\n",
        "\n",
        "New features and continuous improvement is now focused on Notebook v7 (see section above).\n",
        "\n",
        "If you have an open pull request with a new feature or if you were planning to open one, we encourage switching over to the Jupyter Server and JupyterLab architecture, and distribute it as a server extension and / or JupyterLab prebuilt extension. That way your new feature will also be compatible with the new Notebook v7.\n",
        "\n",
        "## Jupyter notebook, the language-agnostic evolution of IPython notebook\n",
        "\n",
        "Jupyter notebook is a language-agnostic HTML notebook application for\n",
        "Project Jupyter. In 2015, Jupyter notebook was released as a part of\n",
        "The Big Split™ of the IPython codebase. IPython 3 was the last major monolithic\n",
        "release containing both language-agnostic code, such as the _IPython notebook_,\n",
        "and language specific code, such as the _IPython kernel for Python_. As\n",
        "computing spans across many languages, Project Jupyter will continue to develop the\n",
        "language-agnostic **Jupyter notebook** in this repo and with the help of the\n",
        "community develop language specific kernels which are found in their own\n",
        "discrete repos.\n",
        "\n",
        "- [The Big Split™ announcement](https://blog.jupyter.org/the-big-split-9d7b88a031a7)\n",
        "- [Jupyter Ascending blog post](https://blog.jupyter.org/jupyter-ascending-1bf5b362d97e)\n",
        "\n",
        "## Installation\n",
        "\n",
        "You can find the installation documentation for the\n",
        "[Jupyter platform, on ReadTheDocs](https://jupyter.readthedocs.io/en/latest/install.html).\n",
        "The documentation for advanced usage of Jupyter notebook can be found\n",
        "[here](https://jupyter-notebook.readthedocs.io/en/latest/).\n",
        "\n",
        "For a local installation, make sure you have\n",
        "[pip installed](https://pip.readthedocs.io/en/stable/installing/) and run:\n",
        "\n",
        "```bash\n",
        "pip install notebook\n",
        "```\n",
        "\n",
        "## Usage - Running Jupyter notebook\n",
        "\n",
        "### Running in a local installation\n",
        "\n",
        "Launch with:\n",
        "\n",
        "```bash\n",
        "jupyter notebook\n",
        "```\n",
        "\n",
        "### Running in a remote installation\n",
        "\n",
        "You need some configuration before starting Jupyter notebook remotely. See [Running a notebook server](https://jupyter-notebook.readthedocs.io/en/stable/public_server.html).\n",
        "\n",
        "## Development Installation\n",
        "\n",
        "See [`CONTRIBUTING.md`](CONTRIBUTING.md) for how to set up a local development installation.\n",
        "\n",
        "## Contributing\n",
        "\n",
        "If you are interested in contributing to the project, see [`CONTRIBUTING.md`](CONTRIBUTING.md).\n",
        "\n",
        "## Community Guidelines and Code of Conduct\n",
        "\n",
        "This repository is a Jupyter project and follows the Jupyter\n",
        "[Community Guides and Code of Conduct](https://jupyter.readthedocs.io/en/latest/community/content-community.html).\n",
        "\n",
        "## Resources\n",
        "\n",
        "- [Project Jupyter website](https://jupyter.org)\n",
        "- [Online Demo at jupyter.org/try](https://jupyter.org/try)\n",
        "- [Documentation for Jupyter notebook](https://jupyter-notebook.readthedocs.io/en/latest/)\n",
        "- [Korean Version of Installation](https://github.com/ChungJooHo/Jupyter_Kor_doc/)\n",
        "- [Documentation for Project Jupyter](https://jupyter.readthedocs.io/en/latest/index.html) \\[[PDF](https://media.readthedocs.org/pdf/jupyter/latest/jupyter.pdf)\\]\n",
        "- [Issues](https://github.com/jupyter/notebook/issues)\n",
        "- [Technical support - Jupyter Google Group](https://discourse.jupyter.org/)\n"
      ]
    },
    {
      "cell_type": "code",
      "execution_count": null,
      "id": "ambient-cartridge",
      "metadata": {
        "hidden": true,
        "id": "ambient-cartridge"
      },
      "outputs": [],
      "source": [
        "# заміряти середній час виконання наступного виразу:\n",
        "# у = 10000**1000\n",
        "%time y = 10000*1000"
      ]
    },
    {
      "cell_type": "markdown",
      "id": "covered-tennis",
      "metadata": {
        "heading_collapsed": true,
        "hidden": true,
        "id": "covered-tennis"
      },
      "source": [
        "### 3. За допомогою плагінів\n",
        "\n",
        "1. Додати моживість згортання вмісту комірок\n",
        "2. Включити 'поліпшувач' програмного коду\n",
        "3. Включити можливість інспектування стану змінних\n",
        "4. Встановити ліміт виводу в комірку приблизним 200 строк\n",
        "5. Включити 'поліпшувач' побудови таблиць в markdown"
      ]
    },
    {
      "cell_type": "markdown",
      "id": "conservative-trunk",
      "metadata": {
        "hidden": true,
        "id": "conservative-trunk"
      },
      "source": [
        "### 4. Використання мови розмітки markdown:"
      ]
    },
    {
      "cell_type": "markdown",
      "id": "8239aaab",
      "metadata": {
        "hidden": true,
        "id": "8239aaab"
      },
      "source": [
        "#### Корисні посилання\n",
        "- [синтаксис __markdown__](https://www.markdownguide.org/basic-syntax/)\n",
        "- [основи `latex` з `markdown`](https://www.fabriziomusacchio.com/blog/2021-08-10-How_to_use_LaTeX_in_Markdown/)"
      ]
    },
    {
      "cell_type": "markdown",
      "id": "2417ceb7",
      "metadata": {
        "hidden": true,
        "id": "2417ceb7"
      },
      "source": [
        "1. За допомогою засобів `git` створити в своєму локальному репозиторії гілку `task_4` та зробити цю гілку активною"
      ]
    },
    {
      "cell_type": "markdown",
      "id": "agricultural-investment",
      "metadata": {
        "hidden": true,
        "id": "agricultural-investment"
      },
      "source": [
        "2. Засобами `markdown` та `latex` побудувати документ, що наведено нижче:\n",
        "\n",
        "![image.png](attachment:image.png)"
      ]
    },
    {
      "cell_type": "markdown",
      "id": "c3f9546b",
      "metadata": {
        "hidden": true,
        "id": "c3f9546b"
      },
      "source": [
        "                        Період 1    2    3   4    5    6    7    8    9    10   11\n",
        "\n",
        "                        Курс   3,89 4,48 5,0 5,50 5,81 5,71 5,93 5,84 6,15 5,97 6,22"
      ]
    },
    {
      "cell_type": "markdown",
      "id": "324f14da",
      "metadata": {
        "hidden": true,
        "id": "324f14da"
      },
      "source": [
        "3. В процесі редагування передбачити 2-3 проміжних коміта в гілку `task_4`\n",
        "4. По завершенні редагування змержити робочу гілку `task_4` в основну (`main` або `master`)\n",
        "5. Зробити остаточний коміт в основній гілці та зробити пуш на власний віддалений репозиторій"
      ]
    }
  ],
  "metadata": {
    "kernelspec": {
      "display_name": "Python 3 (ipykernel)",
      "language": "python",
      "name": "python3"
    },
    "language_info": {
      "codemirror_mode": {
        "name": "ipython",
        "version": 3
      },
      "file_extension": ".py",
      "mimetype": "text/x-python",
      "name": "python",
      "nbconvert_exporter": "python",
      "pygments_lexer": "ipython3",
      "version": "3.9.13"
    },
    "varInspector": {
      "cols": {
        "lenName": 16,
        "lenType": 16,
        "lenVar": 40
      },
      "kernels_config": {
        "python": {
          "delete_cmd_postfix": "",
          "delete_cmd_prefix": "del ",
          "library": "var_list.py",
          "varRefreshCmd": "print(var_dic_list())"
        },
        "r": {
          "delete_cmd_postfix": ") ",
          "delete_cmd_prefix": "rm(",
          "library": "var_list.r",
          "varRefreshCmd": "cat(var_dic_list()) "
        }
      },
      "types_to_exclude": [
        "module",
        "function",
        "builtin_function_or_method",
        "instance",
        "_Feature"
      ],
      "window_display": false
    },
    "colab": {
      "provenance": []
    }
  },
  "nbformat": 4,
  "nbformat_minor": 5
}